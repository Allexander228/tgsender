{
 "cells": [
  {
   "cell_type": "code",
   "execution_count": 3,
   "id": "afb27a69",
   "metadata": {},
   "outputs": [],
   "source": [
    "import ipywidgets as widgets\n",
    "from IPython.display import display, clear_output\n",
    "#!/usr/bin/env python3\n",
    "\n",
    "import requests\n",
    "\n",
    "def send_telegram(text: str):\n",
    "    token = \"5434203384:AAGi4ali3WlLZ5jH--pZPdbgLA6i7eQYBv4\"\n",
    "    url = \"https://api.telegram.org/bot\"\n",
    "    channel_id = \"207929668\"\n",
    "    url += token\n",
    "    method = url + \"/sendMessage\"\n",
    "\n",
    "    r = requests.post(method, data={\n",
    "         \"chat_id\": channel_id,\n",
    "         \"text\": text\n",
    "          })\n",
    "\n",
    "    if r.status_code != 200:\n",
    "        raise Exception(\"post_text error\")\n",
    "\n",
    "#if __name__ == '__main__':\n",
    "#  send_telegram(\"hello world!\")"
   ]
  },
  {
   "cell_type": "code",
   "execution_count": 4,
   "id": "b9196666",
   "metadata": {},
   "outputs": [
    {
     "data": {
      "application/vnd.jupyter.widget-view+json": {
       "model_id": "33d54af6f47c4ed1a57e9a25f164fed6",
       "version_major": 2,
       "version_minor": 0
      },
      "text/plain": [
       "HBox(children=(VBox(children=(VBox(children=(Textarea(value='', placeholder='Type something..'), Button(descri…"
      ]
     },
     "metadata": {},
     "output_type": "display_data"
    }
   ],
   "source": [
    "name = widgets.Textarea(placeholder='Type something..')\n",
    "button_send = widgets.Button(\n",
    "                description='Send to grandma',\n",
    "                tooltip='Send',\n",
    "                style={'description_width': 'initial'}\n",
    "            )\n",
    "output = widgets.Output()\n",
    "def on_button_clicked(event):\n",
    "    with output:\n",
    "        clear_output()\n",
    "        send_telegram(name.value)\n",
    "button_send.on_click(on_button_clicked)\n",
    "vbox_result = widgets.VBox([name, button_send, output])\n",
    "vbox_text = widgets.VBox([vbox_result])\n",
    "page = widgets.HBox([vbox_text])\n",
    "display(page)"
   ]
  },
  {
   "cell_type": "code",
   "execution_count": null,
   "id": "a76e9d3a",
   "metadata": {},
   "outputs": [],
   "source": []
  }
 ],
 "metadata": {
  "kernelspec": {
   "display_name": "Python 3 (ipykernel)",
   "language": "python",
   "name": "python3"
  },
  "language_info": {
   "codemirror_mode": {
    "name": "ipython",
    "version": 3
   },
   "file_extension": ".py",
   "mimetype": "text/x-python",
   "name": "python",
   "nbconvert_exporter": "python",
   "pygments_lexer": "ipython3",
   "version": "3.9.7"
  }
 },
 "nbformat": 4,
 "nbformat_minor": 5
}
